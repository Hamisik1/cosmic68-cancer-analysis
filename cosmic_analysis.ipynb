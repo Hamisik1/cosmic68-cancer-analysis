{
 "cells": [
  {
   "cell_type": "code",
   "execution_count": null,
   "id": "1a28349c-0db5-4f8c-b8c5-c7ee4014856e",
   "metadata": {},
   "outputs": [],
   "source": [
    "# 🧬 COSMIC68 Cancer Mutation Analysis using Athena + PyAthena\n",
    "\n",
    "This notebook analyzes somatic mutations in the COSMIC68 dataset using Amazon Athena. We explore the cancer types most frequently associated with DNA mutations.\n",
    "\n",
    "**Tools Used**:\n",
    "- Amazon Athena + AWS S3\n",
    "- PyAthena + Pandas\n",
    "- Matplotlib\n",
    "- COSMIC68 (hg19) Dataset\n"
   ]
  },
  {
   "cell_type": "markdown",
   "id": "661f86f0-1d7b-41b4-9cbe-252b4698ce40",
   "metadata": {},
   "source": [
    " Connect to Athena"
   ]
  },
  {
   "cell_type": "code",
   "execution_count": 12,
   "id": "e1c551d7-c2f0-4562-9f0a-6a2a97ce13ca",
   "metadata": {},
   "outputs": [],
   "source": [
    "import pandas as pd\n",
    "import matplotlib.pyplot as plt\n",
    "from pyathena import connect\n",
    "\n",
    "# Athena connection\n",
    "conn = connect(\n",
    "    s3_staging_dir=\"s3://athena-output-351869726285/\",\n",
    "    region_name=\"us-east-1\",\n",
    "    encryption_option=\"SSE_S3\"\n",
    ")\n"
   ]
  },
  {
   "cell_type": "markdown",
   "id": "b27877ec-7ff1-46af-a907-10fb58d6899e",
   "metadata": {},
   "source": [
    "Query COSMIC Dataset"
   ]
  },
  {
   "cell_type": "code",
   "execution_count": 10,
   "id": "7eea5507-efd6-4648-91ae-08322cbb650a",
   "metadata": {},
   "outputs": [
    {
     "name": "stderr",
     "output_type": "stream",
     "text": [
      "/tmp/ipykernel_373/1687156146.py:6: UserWarning: pandas only supports SQLAlchemy connectable (engine/connection) or database string URI or sqlite3 DBAPI2 connection. Other DBAPI2 objects are not tested. Please consider using SQLAlchemy.\n",
      "  cosmic_df = pd.read_sql(query, conn)\n"
     ]
    },
    {
     "data": {
      "text/html": [
       "<div>\n",
       "<style scoped>\n",
       "    .dataframe tbody tr th:only-of-type {\n",
       "        vertical-align: middle;\n",
       "    }\n",
       "\n",
       "    .dataframe tbody tr th {\n",
       "        vertical-align: top;\n",
       "    }\n",
       "\n",
       "    .dataframe thead th {\n",
       "        text-align: right;\n",
       "    }\n",
       "</style>\n",
       "<table border=\"1\" class=\"dataframe\">\n",
       "  <thead>\n",
       "    <tr style=\"text-align: right;\">\n",
       "      <th></th>\n",
       "      <th>cosmic_info</th>\n",
       "    </tr>\n",
       "  </thead>\n",
       "  <tbody>\n",
       "    <tr>\n",
       "      <th>0</th>\n",
       "      <td>ID=COSM917032;OCCURENCE=1(endometrium)</td>\n",
       "    </tr>\n",
       "    <tr>\n",
       "      <th>1</th>\n",
       "      <td>ID=COSM1262222;OCCURENCE=1(oesophagus)</td>\n",
       "    </tr>\n",
       "    <tr>\n",
       "      <th>2</th>\n",
       "      <td>ID=COSM1651216,COSM917097;OCCURENCE=1(endometr...</td>\n",
       "    </tr>\n",
       "    <tr>\n",
       "      <th>3</th>\n",
       "      <td>ID=COSM917132;OCCURENCE=1(endometrium)</td>\n",
       "    </tr>\n",
       "    <tr>\n",
       "      <th>4</th>\n",
       "      <td>ID=COSM268400;OCCURENCE=1(large_intestine)</td>\n",
       "    </tr>\n",
       "  </tbody>\n",
       "</table>\n",
       "</div>"
      ],
      "text/plain": [
       "                                         cosmic_info\n",
       "0             ID=COSM917032;OCCURENCE=1(endometrium)\n",
       "1             ID=COSM1262222;OCCURENCE=1(oesophagus)\n",
       "2  ID=COSM1651216,COSM917097;OCCURENCE=1(endometr...\n",
       "3             ID=COSM917132;OCCURENCE=1(endometrium)\n",
       "4         ID=COSM268400;OCCURENCE=1(large_intestine)"
      ]
     },
     "execution_count": 10,
     "metadata": {},
     "output_type": "execute_result"
    }
   ],
   "source": [
    "query = '''\n",
    "SELECT cosmic_info\n",
    "FROM \"1000_genomes\".hg19_cosmic68\n",
    "LIMIT 1000\n",
    "'''\n",
    "cosmic_df = pd.read_sql(query, conn)\n",
    "cosmic_df.head()\n"
   ]
  },
  {
   "cell_type": "code",
   "execution_count": 13,
   "id": "88029ede-04dc-450f-a9d4-5a595f49a498",
   "metadata": {},
   "outputs": [
    {
     "data": {
      "text/html": [
       "<div>\n",
       "<style scoped>\n",
       "    .dataframe tbody tr th:only-of-type {\n",
       "        vertical-align: middle;\n",
       "    }\n",
       "\n",
       "    .dataframe tbody tr th {\n",
       "        vertical-align: top;\n",
       "    }\n",
       "\n",
       "    .dataframe thead th {\n",
       "        text-align: right;\n",
       "    }\n",
       "</style>\n",
       "<table border=\"1\" class=\"dataframe\">\n",
       "  <thead>\n",
       "    <tr style=\"text-align: right;\">\n",
       "      <th></th>\n",
       "      <th>cosmic_info</th>\n",
       "      <th>cancer_type</th>\n",
       "    </tr>\n",
       "  </thead>\n",
       "  <tbody>\n",
       "    <tr>\n",
       "      <th>0</th>\n",
       "      <td>ID=COSM917032;OCCURENCE=1(endometrium)</td>\n",
       "      <td>endometrium</td>\n",
       "    </tr>\n",
       "    <tr>\n",
       "      <th>1</th>\n",
       "      <td>ID=COSM1262222;OCCURENCE=1(oesophagus)</td>\n",
       "      <td>oesophagus</td>\n",
       "    </tr>\n",
       "    <tr>\n",
       "      <th>2</th>\n",
       "      <td>ID=COSM1651216,COSM917097;OCCURENCE=1(endometr...</td>\n",
       "      <td>endometrium</td>\n",
       "    </tr>\n",
       "    <tr>\n",
       "      <th>3</th>\n",
       "      <td>ID=COSM917132;OCCURENCE=1(endometrium)</td>\n",
       "      <td>endometrium</td>\n",
       "    </tr>\n",
       "    <tr>\n",
       "      <th>4</th>\n",
       "      <td>ID=COSM268400;OCCURENCE=1(large_intestine)</td>\n",
       "      <td>large_intestine</td>\n",
       "    </tr>\n",
       "  </tbody>\n",
       "</table>\n",
       "</div>"
      ],
      "text/plain": [
       "                                         cosmic_info      cancer_type\n",
       "0             ID=COSM917032;OCCURENCE=1(endometrium)      endometrium\n",
       "1             ID=COSM1262222;OCCURENCE=1(oesophagus)       oesophagus\n",
       "2  ID=COSM1651216,COSM917097;OCCURENCE=1(endometr...      endometrium\n",
       "3             ID=COSM917132;OCCURENCE=1(endometrium)      endometrium\n",
       "4         ID=COSM268400;OCCURENCE=1(large_intestine)  large_intestine"
      ]
     },
     "execution_count": 13,
     "metadata": {},
     "output_type": "execute_result"
    }
   ],
   "source": [
    "# Extract cancer type using regex\n",
    "cosmic_df['cancer_type'] = cosmic_df['cosmic_info'].str.extract(r'OCCURENCE=\\d+\\((.*?)\\)')\n",
    "cosmic_df = cosmic_df.dropna(subset=['cancer_type'])\n",
    "cosmic_df.head()\n"
   ]
  },
  {
   "cell_type": "code",
   "execution_count": null,
   "id": "77509263-69b8-4147-b848-1760bd842473",
   "metadata": {},
   "outputs": [],
   "source": [
    "# Count frequency of cancer types\n",
    "cancer_counts = cosmic_df['cancer_type'].value_counts().reset_index()\n",
    "cancer_counts.columns = ['Cancer Type', 'Count']\n",
    "\n",
    "# Plot\n",
    "import matplotlib.pyplot as plt\n",
    "\n",
    "plt.figure(figsize=(10,6))\n",
    "plt.bar(cancer_counts['Cancer Type'][:10], cancer_counts['Count'][:10], color='salmon')\n",
    "plt.title(\"Top 10 Cancer Types in COSMIC68 Dataset\")\n",
    "plt.ylabel(\"Number of Mutations\")\n",
    "plt.xticks(rotation=45, ha='right')\n",
    "plt.grid(axis='y')\n",
    "plt.tight_layout()\n",
    "plt.savefig(\"cosmic_cancer_types.png\")\n",
    "plt.show()\n"
   ]
  },
  {
   "cell_type": "code",
   "execution_count": null,
   "id": "d5817cfa-f25b-4d86-af29-6ce77e39bddc",
   "metadata": {},
   "outputs": [],
   "source": [
    "## ✅ Conclusion\n",
    "\n",
    "We extracted 1,000 rows from the COSMIC68 dataset and analyzed the types of cancers linked to mutations. \n",
    "\n",
    "This data helps researchers identify patterns in mutation types and their associated cancers, supporting work in cancer genomics and precision medicine.\n"
   ]
  }
 ],
 "metadata": {
  "kernelspec": {
   "display_name": "Python 3 (ipykernel)",
   "language": "python",
   "name": "python3"
  },
  "language_info": {
   "codemirror_mode": {
    "name": "ipython",
    "version": 3
   },
   "file_extension": ".py",
   "mimetype": "text/x-python",
   "name": "python",
   "nbconvert_exporter": "python",
   "pygments_lexer": "ipython3",
   "version": "3.10.13"
  }
 },
 "nbformat": 4,
 "nbformat_minor": 5
}
